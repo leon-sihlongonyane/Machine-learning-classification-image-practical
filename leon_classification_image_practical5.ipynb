{
  "nbformat": 4,
  "nbformat_minor": 0,
  "metadata": {
    "colab": {
      "name": "leon_classification_image_practical.ipynb",
      "provenance": [],
      "collapsed_sections": []
    },
    "kernelspec": {
      "name": "python3",
      "display_name": "Python 3"
    },
    "language_info": {
      "name": "python"
    },
    "accelerator": "GPU"
  },
  "cells": [
    {
      "cell_type": "code",
      "execution_count": 31,
      "metadata": {
        "id": "vNFScRk99AEw"
      },
      "outputs": [],
      "source": [
        ""
      ]
    },
    {
      "cell_type": "markdown",
      "source": [
        ""
      ],
      "metadata": {
        "id": "n9SaNsPFq2tA"
      }
    },
    {
      "cell_type": "markdown",
      "metadata": {
        "id": "Zs3Vxo5dmP7j"
      },
      "source": [
        "## Image classification Practical\n",
        "\n",
        "Question 1: how many classes are in cifar-10?\n",
        "\n",
        "Answer: 10 \n",
        "***\n",
        "Question 2: is this a colour or greyscale image dataset?\n",
        "\n",
        "Answer: Colour\n",
        "***\n",
        "Question 3: how many channels/depth should the images have?\n",
        "\n",
        "Answer: 3\n",
        "***\n",
        "Question 4: is this a regression or classification problem?\n",
        "\n",
        "Answer: classification\n",
        "***\n",
        "Question 5: if we one-hot encode the targets for this dataset, what will the dimensions of the resulting vector be?\n",
        "\n",
        "Answer: For test data we have 10 000 by 10, for train data 50 000 by 10.\n",
        "***\n",
        "Question 6: which activation function will you most likely use in the last layer of your model for this problem?\n",
        "\n",
        "Answer: Soft-max\n",
        "***"
      ]
    },
    {
      "cell_type": "markdown",
      "source": [
        ""
      ],
      "metadata": {
        "id": "ftEbOIVCdR43"
      }
    },
    {
      "cell_type": "markdown",
      "source": [
        "**We Import libraries  to carry some capabilities**\n",
        "\n",
        "\n",
        "\n",
        "\n"
      ],
      "metadata": {
        "id": "ZkOsOcoPdR7l"
      }
    },
    {
      "cell_type": "code",
      "metadata": {
        "id": "nvCXvXq5mP7p"
      },
      "source": [
        "from tensorflow.keras.models import Sequential   \n",
        "from tensorflow.keras.layers import Dense, Conv2D, MaxPool2D, Flatten, Dropout\n",
        "from tensorflow.keras.losses import CategoricalCrossentropy\n",
        "from tensorflow.keras.optimizers import SGD\n",
        "from tensorflow.keras.datasets import fashion_mnist\n",
        "from tensorflow.keras.callbacks import ModelCheckpoint\n",
        "import numpy as np\n",
        "np.random.seed(20)\n",
        "from sklearn.model_selection import train_test_split\n",
        "import matplotlib.pyplot as plt\n",
        "from keras.utils import np_utils\n",
        "from sklearn.metrics import accuracy_score, confusion_matrix\n",
        "from tensorflow.keras.utils import to_categorical\n",
        "from sklearn.preprocessing import LabelEncoder\n",
        "from tensorflow.keras import metrics\n",
        "from keras.datasets import cifar10\n",
        "%matplotlib inline"
      ],
      "execution_count": 32,
      "outputs": []
    },
    {
      "cell_type": "code",
      "source": [
        ""
      ],
      "metadata": {
        "id": "I6nDuLpc9rM3"
      },
      "execution_count": 32,
      "outputs": []
    },
    {
      "cell_type": "markdown",
      "source": [
        "**Load data**"
      ],
      "metadata": {
        "id": "_O5UADUKjIv4"
      }
    },
    {
      "cell_type": "code",
      "metadata": {
        "id": "uQ_KjFJomP7x"
      },
      "source": [
        "(X_train, Y_train), (X_test, Y_test) = cifar10.load_data()"
      ],
      "execution_count": 33,
      "outputs": []
    },
    {
      "cell_type": "code",
      "source": [
        ""
      ],
      "metadata": {
        "id": "Jguru7QC9yGi"
      },
      "execution_count": 33,
      "outputs": []
    },
    {
      "cell_type": "markdown",
      "source": [
        "**Check shape**"
      ],
      "metadata": {
        "id": "HhVpKGwKdxeB"
      }
    },
    {
      "cell_type": "code",
      "metadata": {
        "id": "3bsoluyzBOYR",
        "colab": {
          "base_uri": "https://localhost:8080/"
        },
        "outputId": "c6394092-fe52-42f6-a09e-2d35f23a8ed7"
      },
      "source": [
        "print('Testing data shape : ', X_test.shape, Y_test.shape)"
      ],
      "execution_count": 34,
      "outputs": [
        {
          "output_type": "stream",
          "name": "stdout",
          "text": [
            "Testing data shape :  (10000, 32, 32, 3) (10000, 1)\n"
          ]
        }
      ]
    },
    {
      "cell_type": "code",
      "metadata": {
        "id": "ueyWl-aUmP72",
        "colab": {
          "base_uri": "https://localhost:8080/"
        },
        "outputId": "bc0c56e5-8641-4563-cb72-462c3c3665fe"
      },
      "source": [
        "print('Training data shape : ', X_train.shape, Y_train.shape)"
      ],
      "execution_count": 35,
      "outputs": [
        {
          "output_type": "stream",
          "name": "stdout",
          "text": [
            "Training data shape :  (50000, 32, 32, 3) (50000, 1)\n"
          ]
        }
      ]
    },
    {
      "cell_type": "markdown",
      "source": [
        "**Find unique values from train data**\n",
        "\n",
        "\n",
        "\n"
      ],
      "metadata": {
        "id": "6l2D_BeyilYb"
      }
    },
    {
      "cell_type": "code",
      "source": [
        "classes = np.unique(Y_train)\n",
        "nClasses = len(classes)\n",
        "print('Total number of outputs : ', nClasses)\n",
        "print('Output classes : ', classes)"
      ],
      "metadata": {
        "id": "qvGHpY8P96do",
        "colab": {
          "base_uri": "https://localhost:8080/"
        },
        "outputId": "95f9eb30-f1a4-4dfc-be4e-7e932feb4038"
      },
      "execution_count": 36,
      "outputs": [
        {
          "output_type": "stream",
          "name": "stdout",
          "text": [
            "Total number of outputs :  10\n",
            "Output classes :  [0 1 2 3 4 5 6 7 8 9]\n"
          ]
        }
      ]
    },
    {
      "cell_type": "code",
      "source": [
        ""
      ],
      "metadata": {
        "id": "LhDT2ddR_HL8"
      },
      "execution_count": 36,
      "outputs": []
    },
    {
      "cell_type": "markdown",
      "source": [
        "**Plots**"
      ],
      "metadata": {
        "id": "i52QUfxwjMdc"
      }
    },
    {
      "cell_type": "code",
      "source": [
        "data_point = 37\n",
        "\n",
        "plt.figure(figsize=[10,5])\n",
        " \n",
        "# Display the first image in training data\n",
        "plt.subplot(121)\n",
        "plt.imshow(X_train[data_point,:,:], cmap='gray')\n",
        "plt.title(\"Ground Truth : {}\".format(Y_train[data_point]))\n",
        " \n",
        "# Display the first image in testing data\n",
        "plt.subplot(122)\n",
        "plt.imshow(X_test[data_point,:,:], cmap='gray')\n",
        "plt.title(\"Ground Truth : {}\".format(Y_test[data_point]))"
      ],
      "metadata": {
        "colab": {
          "base_uri": "https://localhost:8080/",
          "height": 335
        },
        "id": "1t4DMpcW_HNH",
        "outputId": "9987136f-8da7-419c-b50b-2298070a9d8c"
      },
      "execution_count": 37,
      "outputs": [
        {
          "output_type": "execute_result",
          "data": {
            "text/plain": [
              "Text(0.5, 1.0, 'Ground Truth : [1]')"
            ]
          },
          "metadata": {},
          "execution_count": 37
        },
        {
          "output_type": "display_data",
          "data": {
            "image/png": "[encoded data removed]",
            "text/plain": [
              "<Figure size 720x360 with 2 Axes>"
            ]
          },
          "metadata": {
            "needs_background": "light"
          }
        }
      ]
    },
    {
      "cell_type": "code",
      "source": [
        ""
      ],
      "metadata": {
        "id": "dYOfHiHs_L8R"
      },
      "execution_count": 37,
      "outputs": []
    },
    {
      "cell_type": "code",
      "source": [
        "np.max(X_train[0]) # maximum for image"
      ],
      "metadata": {
        "colab": {
          "base_uri": "https://localhost:8080/"
        },
        "id": "GLw3mc44_TWm",
        "outputId": "0480e302-7483-497d-a96a-9e64f7c2ed95"
      },
      "execution_count": 38,
      "outputs": [
        {
          "output_type": "execute_result",
          "data": {
            "text/plain": [
              "255"
            ]
          },
          "metadata": {},
          "execution_count": 38
        }
      ]
    },
    {
      "cell_type": "code",
      "source": [
        "np.min(X_train[0]) # minimun for image"
      ],
      "metadata": {
        "colab": {
          "base_uri": "https://localhost:8080/"
        },
        "id": "RPOcrEEF_TXe",
        "outputId": "5280d838-9b12-405f-cb38-2040b19414fb"
      },
      "execution_count": 39,
      "outputs": [
        {
          "output_type": "execute_result",
          "data": {
            "text/plain": [
              "0"
            ]
          },
          "metadata": {},
          "execution_count": 39
        }
      ]
    },
    {
      "cell_type": "markdown",
      "source": [
        "**Normalize**"
      ],
      "metadata": {
        "id": "MBGZT5fCkZhV"
      }
    },
    {
      "cell_type": "code",
      "source": [
        "X_train = X_train / 255\n",
        "X_test = X_test / 255"
      ],
      "metadata": {
        "id": "q_D713Lp_d5O"
      },
      "execution_count": 40,
      "outputs": []
    },
    {
      "cell_type": "code",
      "source": [
        ""
      ],
      "metadata": {
        "id": "Zb2_OfrG_jKG"
      },
      "execution_count": 40,
      "outputs": []
    },
    {
      "cell_type": "code",
      "source": [
        "np.max(X_train[0]) # check max. of image again"
      ],
      "metadata": {
        "colab": {
          "base_uri": "https://localhost:8080/"
        },
        "id": "qO-WQFWz_jK9",
        "outputId": "ce7f71c4-5e66-4a74-abd6-c185aa326d49"
      },
      "execution_count": 41,
      "outputs": [
        {
          "output_type": "execute_result",
          "data": {
            "text/plain": [
              "1.0"
            ]
          },
          "metadata": {},
          "execution_count": 41
        }
      ]
    },
    {
      "cell_type": "code",
      "source": [
        ""
      ],
      "metadata": {
        "id": "VWCraFUx_kbu"
      },
      "execution_count": 41,
      "outputs": []
    },
    {
      "cell_type": "markdown",
      "source": [
        "**One hot coding**"
      ],
      "metadata": {
        "id": "DSrk5Jtbk4kf"
      }
    },
    {
      "cell_type": "code",
      "source": [
        "Y_train = np_utils.to_categorical(Y_train, 10)\n",
        "Y_test = np_utils.to_categorical(Y_test, 10)\n",
        "num_classes = 10"
      ],
      "metadata": {
        "id": "mvmtlhaGcJZw"
      },
      "execution_count": 42,
      "outputs": []
    },
    {
      "cell_type": "code",
      "source": [
        "Y_test.shape"
      ],
      "metadata": {
        "colab": {
          "base_uri": "https://localhost:8080/"
        },
        "id": "ZT5IzuxHBbhO",
        "outputId": "981ad40c-dc82-44cb-a2fa-e2b97e377710"
      },
      "execution_count": 43,
      "outputs": [
        {
          "output_type": "execute_result",
          "data": {
            "text/plain": [
              "(10000, 10)"
            ]
          },
          "metadata": {},
          "execution_count": 43
        }
      ]
    },
    {
      "cell_type": "code",
      "source": [
        ""
      ],
      "metadata": {
        "id": "Vng5zaTeCX36"
      },
      "execution_count": 43,
      "outputs": []
    },
    {
      "cell_type": "code",
      "source": [
        "Y_train.shape"
      ],
      "metadata": {
        "colab": {
          "base_uri": "https://localhost:8080/"
        },
        "id": "TeY86sTGCX6Y",
        "outputId": "7270a50c-ad57-46a1-933f-90c088979319"
      },
      "execution_count": 44,
      "outputs": [
        {
          "output_type": "execute_result",
          "data": {
            "text/plain": [
              "(50000, 10)"
            ]
          },
          "metadata": {},
          "execution_count": 44
        }
      ]
    },
    {
      "cell_type": "markdown",
      "source": [
        "**Split data into train, validation and test**"
      ],
      "metadata": {
        "id": "G3I_DaybllRT"
      }
    },
    {
      "cell_type": "code",
      "source": [
        "X_train, X_val, Y_train, Y_val = train_test_split(X_train, Y_train, test_size=0.3)"
      ],
      "metadata": {
        "id": "hl4I7QKt_pe8"
      },
      "execution_count": 45,
      "outputs": []
    },
    {
      "cell_type": "markdown",
      "source": [
        "**convolutional neural network model**"
      ],
      "metadata": {
        "id": "YdBIDo3AmN-M"
      }
    },
    {
      "cell_type": "code",
      "source": [
        "def baseline_model():\n",
        "    # create model\n",
        "    model = Sequential()\n",
        "    \n",
        "    model.add(Conv2D(filters=90, kernel_size=2, activation='relu', input_shape=(32,32,3))) \n",
        "    \n",
        "    # Here we create a 2x2 max pooling layer\n",
        "    model.add(MaxPool2D(pool_size=2))\n",
        "\n",
        "    model.add(Conv2D(filters=80, kernel_size=2, padding='same', activation='relu')) \n",
        "    model.add(MaxPool2D(pool_size=2))\n",
        "    model.add(Conv2D(filters=100, kernel_size=2, padding='same', activation='relu')) \n",
        "    model.add(MaxPool2D(pool_size=2))\n",
        "    model.add(Flatten())\n",
        "    \n",
        "    model.add(Dense(512, activation='relu'))\n",
        "\n",
        "    model.add(Dropout(0.5))\n",
        "    \n",
        "    model.add(Dense(10, activation='softmax'))\n",
        "\n",
        "    loss = CategoricalCrossentropy()\n",
        "    \n",
        "    # Compile the model\n",
        "    model.compile(loss=loss,\n",
        "             optimizer='adam',\n",
        "             metrics=['accuracy'])\n",
        "    return model"
      ],
      "metadata": {
        "id": "aSn2otea_pgL"
      },
      "execution_count": 46,
      "outputs": []
    },
    {
      "cell_type": "code",
      "source": [
        "model = baseline_model()"
      ],
      "metadata": {
        "id": "Be0jaOQW_yAE"
      },
      "execution_count": 47,
      "outputs": []
    },
    {
      "cell_type": "code",
      "source": [
        "model.summary() # show trainable parameters"
      ],
      "metadata": {
        "colab": {
          "base_uri": "https://localhost:8080/"
        },
        "id": "3EluBF7f_yBd",
        "outputId": "ecce1069-36ae-43ec-d31c-c595f6a7dfba"
      },
      "execution_count": 48,
      "outputs": [
        {
          "output_type": "stream",
          "name": "stdout",
          "text": [
            "Model: \"sequential_3\"\n",
            "_________________________________________________________________\n",
            " Layer (type)                Output Shape              Param #   \n",
            "=================================================================\n",
            " conv2d_9 (Conv2D)           (None, 31, 31, 90)        1170      \n",
            "                                                                 \n",
            " max_pooling2d_9 (MaxPooling  (None, 15, 15, 90)       0         \n",
            " 2D)                                                             \n",
            "                                                                 \n",
            " conv2d_10 (Conv2D)          (None, 15, 15, 80)        28880     \n",
            "                                                                 \n",
            " max_pooling2d_10 (MaxPoolin  (None, 7, 7, 80)         0         \n",
            " g2D)                                                            \n",
            "                                                                 \n",
            " conv2d_11 (Conv2D)          (None, 7, 7, 100)         32100     \n",
            "                                                                 \n",
            " max_pooling2d_11 (MaxPoolin  (None, 3, 3, 100)        0         \n",
            " g2D)                                                            \n",
            "                                                                 \n",
            " flatten_3 (Flatten)         (None, 900)               0         \n",
            "                                                                 \n",
            " dense_6 (Dense)             (None, 512)               461312    \n",
            "                                                                 \n",
            " dropout_3 (Dropout)         (None, 512)               0         \n",
            "                                                                 \n",
            " dense_7 (Dense)             (None, 10)                5130      \n",
            "                                                                 \n",
            "=================================================================\n",
            "Total params: 528,592\n",
            "Trainable params: 528,592\n",
            "Non-trainable params: 0\n",
            "_________________________________________________________________\n"
          ]
        }
      ]
    },
    {
      "cell_type": "code",
      "source": [
        ""
      ],
      "metadata": {
        "id": "VHckNAK8_3w7"
      },
      "execution_count": 48,
      "outputs": []
    },
    {
      "cell_type": "code",
      "source": [
        "checkpoint_path = \"training/cp-{epoch:04d}.ckpt\"\n",
        "\n",
        "cp_callback = ModelCheckpoint(filepath=checkpoint_path, \n",
        "                              save_best_only=True, \n",
        "                              save_weights_only=True, \n",
        "                              verbose=1)"
      ],
      "metadata": {
        "id": "uZSyJH2q_3ye"
      },
      "execution_count": 49,
      "outputs": []
    },
    {
      "cell_type": "code",
      "source": [
        ""
      ],
      "metadata": {
        "id": "jWBtoXbo_942"
      },
      "execution_count": 49,
      "outputs": []
    },
    {
      "cell_type": "markdown",
      "source": [
        "**Train the model**"
      ],
      "metadata": {
        "id": "VAY2RNXomwfE"
      }
    },
    {
      "cell_type": "code",
      "source": [
        "history=model.fit(X_train, Y_train, validation_data=(X_val, Y_val), epochs=10, batch_size=128, verbose=1, callbacks=[cp_callback])"
      ],
      "metadata": {
        "colab": {
          "base_uri": "https://localhost:8080/"
        },
        "id": "tSO7Yko1_96C",
        "outputId": "7dfda57e-a6ce-4a12-de62-1954436b7db7"
      },
      "execution_count": 50,
      "outputs": [
        {
          "output_type": "stream",
          "name": "stdout",
          "text": [
            "Epoch 1/10\n",
            "272/274 [============================>.] - ETA: 0s - loss: 1.7348 - accuracy: 0.3556\n",
            "Epoch 00001: val_loss improved from inf to 1.39860, saving model to training/cp-0001.ckpt\n",
            "274/274 [==============================] - 9s 31ms/step - loss: 1.7331 - accuracy: 0.3564 - val_loss: 1.3986 - val_accuracy: 0.4915\n",
            "Epoch 2/10\n",
            "274/274 [==============================] - ETA: 0s - loss: 1.3576 - accuracy: 0.5089\n",
            "Epoch 00002: val_loss improved from 1.39860 to 1.26524, saving model to training/cp-0002.ckpt\n",
            "274/274 [==============================] - 8s 28ms/step - loss: 1.3576 - accuracy: 0.5089 - val_loss: 1.2652 - val_accuracy: 0.5540\n",
            "Epoch 3/10\n",
            "274/274 [==============================] - ETA: 0s - loss: 1.1882 - accuracy: 0.5753\n",
            "Epoch 00003: val_loss improved from 1.26524 to 1.11835, saving model to training/cp-0003.ckpt\n",
            "274/274 [==============================] - 8s 28ms/step - loss: 1.1882 - accuracy: 0.5753 - val_loss: 1.1183 - val_accuracy: 0.6105\n",
            "Epoch 4/10\n",
            "272/274 [============================>.] - ETA: 0s - loss: 1.0810 - accuracy: 0.6185\n",
            "Epoch 00004: val_loss improved from 1.11835 to 1.01018, saving model to training/cp-0004.ckpt\n",
            "274/274 [==============================] - 8s 28ms/step - loss: 1.0803 - accuracy: 0.6187 - val_loss: 1.0102 - val_accuracy: 0.6465\n",
            "Epoch 5/10\n",
            "272/274 [============================>.] - ETA: 0s - loss: 0.9862 - accuracy: 0.6488\n",
            "Epoch 00005: val_loss improved from 1.01018 to 0.97550, saving model to training/cp-0005.ckpt\n",
            "274/274 [==============================] - 8s 29ms/step - loss: 0.9866 - accuracy: 0.6485 - val_loss: 0.9755 - val_accuracy: 0.6588\n",
            "Epoch 6/10\n",
            "273/274 [============================>.] - ETA: 0s - loss: 0.9178 - accuracy: 0.6753\n",
            "Epoch 00006: val_loss improved from 0.97550 to 0.91132, saving model to training/cp-0006.ckpt\n",
            "274/274 [==============================] - 8s 29ms/step - loss: 0.9175 - accuracy: 0.6754 - val_loss: 0.9113 - val_accuracy: 0.6809\n",
            "Epoch 7/10\n",
            "272/274 [============================>.] - ETA: 0s - loss: 0.8665 - accuracy: 0.6932\n",
            "Epoch 00007: val_loss improved from 0.91132 to 0.86682, saving model to training/cp-0007.ckpt\n",
            "274/274 [==============================] - 8s 29ms/step - loss: 0.8665 - accuracy: 0.6932 - val_loss: 0.8668 - val_accuracy: 0.6939\n",
            "Epoch 8/10\n",
            "273/274 [============================>.] - ETA: 0s - loss: 0.8027 - accuracy: 0.7168\n",
            "Epoch 00008: val_loss improved from 0.86682 to 0.84201, saving model to training/cp-0008.ckpt\n",
            "274/274 [==============================] - 8s 28ms/step - loss: 0.8027 - accuracy: 0.7168 - val_loss: 0.8420 - val_accuracy: 0.7061\n",
            "Epoch 9/10\n",
            "272/274 [============================>.] - ETA: 0s - loss: 0.7661 - accuracy: 0.7302\n",
            "Epoch 00009: val_loss improved from 0.84201 to 0.83995, saving model to training/cp-0009.ckpt\n",
            "274/274 [==============================] - 8s 28ms/step - loss: 0.7660 - accuracy: 0.7305 - val_loss: 0.8399 - val_accuracy: 0.7073\n",
            "Epoch 10/10\n",
            "273/274 [============================>.] - ETA: 0s - loss: 0.7132 - accuracy: 0.7460\n",
            "Epoch 00010: val_loss did not improve from 0.83995\n",
            "274/274 [==============================] - 8s 29ms/step - loss: 0.7132 - accuracy: 0.7459 - val_loss: 0.8562 - val_accuracy: 0.7083\n"
          ]
        }
      ]
    },
    {
      "cell_type": "code",
      "source": [
        "correct_values = np.argmax(Y_test,axis=1)"
      ],
      "metadata": {
        "id": "sPXStjmc_3zt"
      },
      "execution_count": 51,
      "outputs": []
    },
    {
      "cell_type": "code",
      "source": [
        ""
      ],
      "metadata": {
        "id": "LPwyxMvCAHLl"
      },
      "execution_count": 51,
      "outputs": []
    },
    {
      "cell_type": "markdown",
      "source": [
        "**Plot of train and validation**"
      ],
      "metadata": {
        "id": "FkypcWRcm8P8"
      }
    },
    {
      "cell_type": "code",
      "source": [
        "def plot_hist(h, xsize=6, ysize=10):\n",
        "\n",
        "    fig_size = plt.rcParams[\"figure.figsize\"]\n",
        "    plt.rcParams[\"figure.figsize\"] = [xsize, ysize]\n",
        "    fig, axes = plt.subplots(nrows=1, ncols=1, sharex=True)\n",
        "    \n",
        "    # summarize history for Accuracy\n",
        "    plt.subplot(211)\n",
        "    plt.plot(h['accuracy'])\n",
        "    plt.plot(h['val_accuracy'])\n",
        "    plt.title('Training Performance')\n",
        "    plt.ylabel('Accuracy')\n",
        "    plt.xlabel('Epochs')\n",
        "    plt.legend(['Train', 'Validation'], loc='best')\n",
        "    \n",
        "    plt.draw()\n",
        "    plt.show()\n",
        "\n",
        "    return"
      ],
      "metadata": {
        "id": "JqVMyUzEAHmR"
      },
      "execution_count": 52,
      "outputs": []
    },
    {
      "cell_type": "code",
      "source": [
        ""
      ],
      "metadata": {
        "id": "jmNxPRBBANL-"
      },
      "execution_count": 52,
      "outputs": []
    },
    {
      "cell_type": "markdown",
      "source": [
        "**Plot of accuracy over epochs (showing results of training performance)**"
      ],
      "metadata": {
        "id": "uDkus0ytnLqk"
      }
    },
    {
      "cell_type": "code",
      "source": [
        "plot_hist(history.history, xsize=8, ysize=12)"
      ],
      "metadata": {
        "colab": {
          "base_uri": "https://localhost:8080/",
          "height": 374
        },
        "id": "h6kcc3H2ANXU",
        "outputId": "d17db419-5677-4e4a-a0fe-cee177550552"
      },
      "execution_count": 53,
      "outputs": [
        {
          "output_type": "display_data",
          "data": {
            "image/png": "[encoded data removed]",
            "text/plain": [
              "<Figure size 576x864 with 1 Axes>"
            ]
          },
          "metadata": {
            "needs_background": "light"
          }
        }
      ]
    },
    {
      "cell_type": "code",
      "source": [
        ""
      ],
      "metadata": {
        "id": "dnNQNfCLAVVu"
      },
      "execution_count": 53,
      "outputs": []
    },
    {
      "cell_type": "markdown",
      "source": [
        "**Calculating accuracy**"
      ],
      "metadata": {
        "id": "z5PWDh9Vnxfc"
      }
    },
    {
      "cell_type": "code",
      "source": [
        "model = baseline_model()\n",
        "\n",
        "predictions = model.predict(X_test)\n",
        "predictions = np.argmax(predictions, axis=-1)\n",
        "\n",
        "accuracy_score(predictions,correct_values)*100"
      ],
      "metadata": {
        "colab": {
          "base_uri": "https://localhost:8080/"
        },
        "id": "d87fTOPjAVW9",
        "outputId": "a7fa89a3-8187-4735-9410-add9df5f995e"
      },
      "execution_count": 54,
      "outputs": [
        {
          "output_type": "execute_result",
          "data": {
            "text/plain": [
              "10.059999999999999"
            ]
          },
          "metadata": {},
          "execution_count": 54
        }
      ]
    },
    {
      "cell_type": "code",
      "source": [
        ""
      ],
      "metadata": {
        "id": "160qYZdnAatK"
      },
      "execution_count": 54,
      "outputs": []
    },
    {
      "cell_type": "code",
      "source": [
        "model = baseline_model()\n",
        "model.load_weights(\"training/cp-0010.ckpt\")\n",
        "\n",
        "predictions = model.predict(X_test)\n",
        "predictions = np.argmax(predictions, axis=-1)\n",
        "\n",
        "accuracy_score(predictions,correct_values)*100   #percentage above 70 "
      ],
      "metadata": {
        "colab": {
          "base_uri": "https://localhost:8080/"
        },
        "id": "iP45Od2_Aa88",
        "outputId": "85af26cb-6df1-4a64-b8f8-2be6863150c0"
      },
      "execution_count": 55,
      "outputs": [
        {
          "output_type": "execute_result",
          "data": {
            "text/plain": [
              "70.11"
            ]
          },
          "metadata": {},
          "execution_count": 55
        }
      ]
    },
    {
      "cell_type": "code",
      "source": [
        ""
      ],
      "metadata": {
        "id": "K7h6HTzmAprt"
      },
      "execution_count": 55,
      "outputs": []
    },
    {
      "cell_type": "markdown",
      "source": [
        ""
      ],
      "metadata": {
        "id": "5puCQD1qs8qt"
      }
    },
    {
      "cell_type": "markdown",
      "source": [
        "**Model prediction**"
      ],
      "metadata": {
        "id": "9WnZqt9Rs8t9"
      }
    },
    {
      "cell_type": "code",
      "source": [
        "predictions = model.predict(X_test)\n",
        "predictions = np.argmax(predictions, axis=-1)"
      ],
      "metadata": {
        "id": "QdAbYNR_sttH"
      },
      "execution_count": 56,
      "outputs": []
    },
    {
      "cell_type": "markdown",
      "source": [
        "**Confusion matrix**"
      ],
      "metadata": {
        "id": "StfKOaDAph2J"
      }
    },
    {
      "cell_type": "code",
      "source": [
        "confusion_matrix(predictions,correct_values)"
      ],
      "metadata": {
        "colab": {
          "base_uri": "https://localhost:8080/"
        },
        "id": "MHQ2jyvXANYZ",
        "outputId": "0bf32a33-3105-46d9-b902-5f6527ec5500"
      },
      "execution_count": 57,
      "outputs": [
        {
          "output_type": "execute_result",
          "data": {
            "text/plain": [
              "array([[764,  37,  55,  18,  25,  14,   4,  21,  55,  42],\n",
              "       [  9, 796,   3,   8,   4,   3,   1,   1,  26,  90],\n",
              "       [ 79,  14, 680, 118, 110, 121,  60,  82,  29,  12],\n",
              "       [ 14,  11,  66, 608,  68, 311,  48,  63,  16,  27],\n",
              "       [ 12,   4,  61,  53, 640,  51,  19,  89,   6,   6],\n",
              "       [  2,   1,  28,  55,  14, 413,   3,  43,   2,   4],\n",
              "       [ 15,  16,  72,  87,  95,  45, 858,  18,  12,  24],\n",
              "       [  4,   2,  15,  22,  32,  28,   1, 662,   2,   6],\n",
              "       [ 70,  32,  11,  19,  10,   9,   5,   4, 833,  32],\n",
              "       [ 31,  87,   9,  12,   2,   5,   1,  17,  19, 757]])"
            ]
          },
          "metadata": {},
          "execution_count": 57
        }
      ]
    },
    {
      "cell_type": "code",
      "source": [
        ""
      ],
      "metadata": {
        "id": "Met7xlioAyJ9"
      },
      "execution_count": 57,
      "outputs": []
    },
    {
      "cell_type": "code",
      "source": [
        ""
      ],
      "metadata": {
        "id": "BprUuOITRrj3"
      },
      "execution_count": 57,
      "outputs": []
    }
  ]
}